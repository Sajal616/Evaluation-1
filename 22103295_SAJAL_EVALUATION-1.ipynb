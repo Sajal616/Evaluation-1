{
 "cells": [
  {
   "cell_type": "code",
   "execution_count": 10,
   "id": "4eef1383",
   "metadata": {},
   "outputs": [
    {
     "name": "stdout",
     "output_type": "stream",
     "text": [
      "Old Dictionary: \n",
      "Sajal  :  8534652435  ,  sajal@gmail.com\n",
      "Dhairya  :  9534652435  ,  dhairya@gmail.com\n",
      "Arya  :  7534652435  ,  arya@gmail.com\n",
      "Nishant  :  6534652435  ,  nishant@gmail.com\n",
      "Harshit  :  7634652435\n",
      "\n",
      "Sajal  :  7689745325  ,  sajal@gmail.com\n",
      "Harsh  :  7685904609  ,  harsh@gmail.com\n",
      "Harshit  :  7634652435\n",
      "Harsh  :  7685904609  ,  harsh@gmail.com\n",
      "\n",
      "New Dictionary:\n",
      "Sajal  :  7689745325  ,  sajal@gmail.com\n",
      "Dhairya  :  9534652435  ,  dhairya@gmail.com\n",
      "Arya  :  7534652435  ,  arya@gmail.com\n",
      "Nishant  :  6534652435  ,  Nishant01@gmail.com\n",
      "Harshit  :  7634652435\n",
      "Harsh  :  7685904609  ,  harsh@gmail.com\n"
     ]
    }
   ],
   "source": [
    "dictionary={\n",
    "    \"Sajal\":[8534652435,\"sajal@gmail.com\"],\n",
    "    \"Dhairya\":[9534652435,\"dhairya@gmail.com\"],\n",
    "    \"Arya\":[7534652435,\"arya@gmail.com\"],\n",
    "    \"Nishant\":[6534652435,\"nishant@gmail.com\"],\n",
    "    \"Harshit\":[7634652435]\n",
    "}\n",
    "def addContactWithEmail(*keys):\n",
    "    dictionary[keys[0]]=[keys[1],keys[2]]\n",
    "def addContactWithoutEmail(*keys):\n",
    "    dictionary[keys[0]]=[keys[1]]\n",
    "def updatePhoneNumber(*keys):\n",
    "    dictionary[keys[0]][0]=keys[1]\n",
    "def updateEmail(*keys):\n",
    "    dictionary[keys[0]][1]=keys[1]\n",
    "def removeContact(*keys):\n",
    "    dictionary.pop(keys[0])\n",
    "def listDictionary(dictionary):\n",
    "    for i in dictionary:\n",
    "        if(len(dictionary[i])==1):\n",
    "            print(i,\" : \",dictionary[i][0])\n",
    "        else:\n",
    "            print(i,\" : \",dictionary[i][0],\" , \",dictionary[i][1])\n",
    "def searchContact(name):\n",
    "    for key in dictionary:\n",
    "        if(len(dictionary[key])==1):\n",
    "            if(key==name):\n",
    "                print(key,\" : \",dictionary[key][0])\n",
    "                return\n",
    "        else:\n",
    "            if((key==name) | (dictionary[key][1]==name)):\n",
    "                print(key,\" : \",dictionary[key][0],\" , \",dictionary[key][1])\n",
    "                return\n",
    "def searchWithInitials(i):\n",
    "    for key in dictionary:\n",
    "        if(key[0]==i):\n",
    "            if(len(dictionary[key])==1):\n",
    "                print(key,\" : \",dictionary[key][0])\n",
    "            else:\n",
    "                print(key,\" : \",dictionary[key][0],\" , \",dictionary[key][1])\n",
    "print(\"Old Dictionary: \")\n",
    "listDictionary(dictionary)\n",
    "print()\n",
    "addContactWithEmail(\"Harsh\",7685904609,\"harsh@gmail.com\")\n",
    "addContactWithoutEmail(\"Sarthak\",7685904609)\n",
    "updatePhoneNumber(\"Sajal\",7689745325)\n",
    "updateEmail(\"Nishant\",\"Nishant01@gmail.com\")\n",
    "removeContact(\"Sarthak\")\n",
    "searchContact(\"Sajal\")\n",
    "searchContact(\"harsh@gmail.com\")\n",
    "searchWithInitials(\"H\")\n",
    "print()\n",
    "print(\"New Dictionary:\")\n",
    "listDictionary(dictionary)"
   ]
  }
 ],
 "metadata": {
  "kernelspec": {
   "display_name": "Python 3 (ipykernel)",
   "language": "python",
   "name": "python3"
  },
  "language_info": {
   "codemirror_mode": {
    "name": "ipython",
    "version": 3
   },
   "file_extension": ".py",
   "mimetype": "text/x-python",
   "name": "python",
   "nbconvert_exporter": "python",
   "pygments_lexer": "ipython3",
   "version": "3.11.5"
  }
 },
 "nbformat": 4,
 "nbformat_minor": 5
}
